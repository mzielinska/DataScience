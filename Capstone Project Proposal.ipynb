{
 "cells": [
  {
   "cell_type": "markdown",
   "metadata": {},
   "source": [
    "** What is the problem you want to solve **\n",
    "\n",
    "Predict pokemon occurance.\n",
    "\n",
    "**Who is your client and why do they care about this problem? In other words, what will your client DO or DECIDE based on your analysis that they wouldn’t have otherwise?**\n",
    "\n",
    "Potential client - Obsessive Compulsive Pokemon Hunter. Based on provided analysis will be able to focus his time and effort in the most efficient in order to collect all pokemons in his pocket.\n",
    "\n",
    "** What they receive?**\n",
    "\n",
    "Classified factors of pokemon appearance. Optimal locations, weather and time to catch specific pokemon types.\n",
    "\n",
    "** What data are you going to use for this? How will you acquire this data?**\n",
    "\n",
    "https://www.kaggle.com/semioniy/predictemall\n",
    "I will use dataset published on kaggle.com\n",
    "\n",
    "**In brief, outline your approach to solving this problem (knowing that this might change later).**\n",
    "\n",
    "As a beginner pokemon-go player I struggled with the randomness of pokemon sightings. I believe using historical data \n",
    "I can reveal a pattern or set of optimal factors.\n",
    "\n",
    "Using kaggle data I want to identify important factors of pokemon sightings. \n",
    "\n",
    "** What are your deliverables? Typically, this would include code, along with a paper and/or a slide deck.**\n",
    "\n",
    "IPython notebook file with Tableau visualization and slide deck."
   ]
  }
 ],
 "metadata": {
  "anaconda-cloud": {},
  "kernelspec": {
   "display_name": "Python [conda root]",
   "language": "python",
   "name": "conda-root-py"
  },
  "language_info": {
   "codemirror_mode": {
    "name": "ipython",
    "version": 3
   },
   "file_extension": ".py",
   "mimetype": "text/x-python",
   "name": "python",
   "nbconvert_exporter": "python",
   "pygments_lexer": "ipython3",
   "version": "3.5.2"
  }
 },
 "nbformat": 4,
 "nbformat_minor": 1
}
