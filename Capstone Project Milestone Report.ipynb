{
 "cells": [
  {
   "cell_type": "markdown",
   "metadata": {},
   "source": [
    "**An introduction to the problem: What is the problem? Who is the Client? (Feel free to reuse points 1-2 from your proposal document)**"
   ]
  },
  {
   "cell_type": "markdown",
   "metadata": {},
   "source": [
    "Potential client - Obsessive Compulsive Pokemon Hunter. Based on provided analysis will be able to focus his time and effort in the most efficient in order to collect all pokemons in his pocket."
   ]
  },
  {
   "cell_type": "markdown",
   "metadata": {},
   "source": [
    "**A deeper dive into the data set:\n",
    "What important fields and information does the data set have?**"
   ]
  },
  {
   "cell_type": "markdown",
   "metadata": {},
   "source": [
    "Pokestop Distance and Gym Distance are correlated with each other (which make sense) therefore I will focus only on one of them which is Pokestop Distance"
   ]
  },
  {
   "cell_type": "markdown",
   "metadata": {},
   "source": [
    "**What are its limitations i.e. what are some questions that you cannot answer with this data set?**"
   ]
  },
  {
   "cell_type": "markdown",
   "metadata": {},
   "source": [
    "Geographic information is not very clear, when I visualised this dataset in tableau and check city names vs. location on the map I noticed that city name is not very specific. For example in Poland all locations are named as city - Warsaw.\n",
    "Also continent values are mixed to different groups like Pacific etc. \n",
    "I could use reverse geocode funtion from geopy library but since this data is above 300k observations this excercise would take me to long on CPU.\n",
    "After those findings I decided not to focus on geographic informations so much and rather check what are the relations between pokemon types co-occurance. I also think that Pokemon spawns are higher when the weather is good and in places with highe population density. I would like to test those two hypothesis."
   ]
  },
  {
   "cell_type": "markdown",
   "metadata": {},
   "source": [
    "**What kind of cleaning and wrangling did you need to do?**"
   ]
  },
  {
   "cell_type": "markdown",
   "metadata": {},
   "source": [
    "As majority of the variables that I want to use are categorical, I will use one hot encoding to change them into binary values"
   ]
  },
  {
   "cell_type": "markdown",
   "metadata": {},
   "source": [
    "**Are there other datasets you can find, use and combine with, to answer the questions that matter?**"
   ]
  },
  {
   "cell_type": "markdown",
   "metadata": {},
   "source": [
    "I added pokemon names table to be able to recognize common pokemon name and to see what are the best conditions (weather, location etc.) to catch Pikatchu"
   ]
  },
  {
   "cell_type": "markdown",
   "metadata": {},
   "source": [
    "**Any preliminary exploration you’ve performed and your initial findings. Test the hypotheses one at a time. Often, the data story emerges as a result of a sequence of testing hypothesis e.g. You first tested if X was true, and because it wasn't, you tried Y, which turned out to be true.\n",
    "Based on these findings, what approach are you going to take? How has your approach changed from what you initially proposed, if applicable?**"
   ]
  }
 ],
 "metadata": {
  "anaconda-cloud": {},
  "kernelspec": {
   "display_name": "Python [conda root]",
   "language": "python",
   "name": "conda-root-py"
  },
  "language_info": {
   "codemirror_mode": {
    "name": "ipython",
    "version": 3
   },
   "file_extension": ".py",
   "mimetype": "text/x-python",
   "name": "python",
   "nbconvert_exporter": "python",
   "pygments_lexer": "ipython3",
   "version": "3.5.2"
  }
 },
 "nbformat": 4,
 "nbformat_minor": 1
}
